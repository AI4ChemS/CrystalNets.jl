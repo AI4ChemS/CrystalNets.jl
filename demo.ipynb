{
 "cells": [
  {
   "cell_type": "markdown",
   "id": "722c099f",
   "metadata": {},
   "source": [
    "# Introduction to CrystalNets.jl\n",
    "\n",
    "This is a small notebook that demonstrates some basic usage of the CrystalNets.jl library. It can be [run interactively online](https://mybinder.org/v2/gh/coudertlab/CrystalNets.jl/HEAD?labpath=demo.ipynb), without having to install Julia, at this address: https://mybinder.org/v2/gh/coudertlab/CrystalNets.jl/HEAD?labpath=demo.ipynb"
   ]
  },
  {
   "cell_type": "code",
   "execution_count": 1,
   "id": "ff4ce9ff",
   "metadata": {},
   "outputs": [],
   "source": [
    "using CrystalNets"
   ]
  },
  {
   "cell_type": "code",
   "execution_count": 2,
   "id": "69097102",
   "metadata": {},
   "outputs": [
    {
     "name": "stdout",
     "output_type": "stream",
     "text": [
      "Export of input is enabled: saving file at /var/folders/h8/9hx_fyj91053ksgdzb2w03vw0000gp/T/input_Diamond_3.vtf\n",
      "Export of subnet_Auto is enabled: saving file at /var/folders/h8/9hx_fyj91053ksgdzb2w03vw0000gp/T/subnet_Auto_Diamond_3.vtf\n"
     ]
    },
    {
     "name": "stderr",
     "output_type": "stream",
     "text": [
      "\u001b[33m\u001b[1m[ \u001b[22m\u001b[39m\u001b[33m\u001b[1mWarning: \u001b[22m\u001b[39mH-M symbol provided but not recognised : F d 3 m\n",
      "\u001b[91m\u001b[1m[ \u001b[22m\u001b[39m\u001b[91m\u001b[1mError: \u001b[22m\u001b[39mCould not determine the space group of this file. It will be considered P1.\n",
      "\u001b[33m\u001b[1m[ \u001b[22m\u001b[39m\u001b[33m\u001b[1mWarning: \u001b[22m\u001b[39mGuessing bonds with custom algorithm (from Chemfiles and VMD). This may take a while for big structures and may be inexact.\n",
      "\u001b[36m\u001b[1m[ \u001b[22m\u001b[39m\u001b[36m\u001b[1mInfo: \u001b[22m\u001b[39mTo avoid guessing bonds, use a file format that contains the bonds.\n"
     ]
    },
    {
     "data": {
      "text/plain": [
       "dia"
      ]
     },
     "execution_count": 2,
     "metadata": {},
     "output_type": "execute_result"
    }
   ],
   "source": [
    "determine_topology(\"test/cif/Diamond.cif\")"
   ]
  },
  {
   "cell_type": "code",
   "execution_count": 3,
   "id": "bec178ed",
   "metadata": {},
   "outputs": [
    {
     "name": "stdout",
     "output_type": "stream",
     "text": [
      "Export of input is enabled: saving file at /var/folders/h8/9hx_fyj91053ksgdzb2w03vw0000gp/T/input_ABW_2.vtf\n",
      "Export of subnet_Auto is enabled: saving file at /var/folders/h8/9hx_fyj91053ksgdzb2w03vw0000gp/T/subnet_Auto_ABW_2.vtf\n"
     ]
    },
    {
     "name": "stderr",
     "output_type": "stream",
     "text": [
      "\u001b[33m\u001b[1m[ \u001b[22m\u001b[39m\u001b[33m\u001b[1mWarning: \u001b[22m\u001b[39mGuessing bonds with custom algorithm (from Chemfiles and VMD). This may take a while for big structures and may be inexact.\n",
      "\u001b[36m\u001b[1m[ \u001b[22m\u001b[39m\u001b[36m\u001b[1mInfo: \u001b[22m\u001b[39mTo avoid guessing bonds, use a file format that contains the bonds.\n"
     ]
    },
    {
     "data": {
      "text/plain": [
       "sra, ABW"
      ]
     },
     "execution_count": 3,
     "metadata": {},
     "output_type": "execute_result"
    }
   ],
   "source": [
    "determine_topology(\"test/cif/ABW.cif\")"
   ]
  },
  {
   "cell_type": "code",
   "execution_count": null,
   "id": "591efe82",
   "metadata": {},
   "outputs": [],
   "source": []
  }
 ],
 "metadata": {
  "kernelspec": {
   "display_name": "Julia 1.9.0-DEV",
   "language": "julia",
   "name": "julia-1.9"
  },
  "language_info": {
   "file_extension": ".jl",
   "mimetype": "application/julia",
   "name": "julia",
   "version": "1.9.0"
  }
 },
 "nbformat": 4,
 "nbformat_minor": 5
}
